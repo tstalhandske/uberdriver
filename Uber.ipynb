{
 "cells": [
  {
   "cell_type": "code",
   "execution_count": 10,
   "metadata": {
    "collapsed": true
   },
   "outputs": [],
   "source": [
    "import networkx as nx\n",
    "import matplotlib.pyplot as plt\n",
    "import pandas as pd\n",
    "import itertools\n",
    "import copy\n",
    "import random as rd"
   ]
  },
  {
   "cell_type": "code",
   "execution_count": 1,
   "metadata": {
    "collapsed": true
   },
   "outputs": [],
   "source": [
    "locations = [\"Vasastan\", \"Östermalm\", \"Norrmalm\", \"Gamla Stan\", \"Södermalm\", \"Djurgården\", \"Sickla\", \"Nacka\", \"Enskede\", \"Liljeholmen\", \"Kungsholmen\", \"Alvik\", \"Bromma\",\"Ekerö\", \"Lidingö\", \"Danderyd\", \"Täby\", \"Solna\", \"Kista\", \"Sollentuna\"];"
   ]
  },
  {
   "cell_type": "code",
   "execution_count": 2,
   "metadata": {
    "collapsed": true
   },
   "outputs": [],
   "source": [
    "roads = [(\"Vasastan\", \"Norrmalm\", 2), (\"Vasastan\", \"Östermalm\", 3), (\"Vasastan\", \"Kungsholmen\", 2), (\"Vasastan\", \"Solna\", 2), (\"Vasastan\", \"Danderyd\", 3), \n",
    "\t\t(\"Vasastan\", \"Alvik\", 3),\n",
    "\t(\"Östermalm\", \"Lidingö\", 3), (\"Östermalm\", \"Djurgården\", 3), (\"Östermalm\", \"Gamla Stan\", 3), (\"Östermalm\", \"Norrmalm\", 3), (\"Östermalm\", \"Danderyd\", 4),\n",
    "\t(\"Norrmalm\", \"Gamla Stan\", 2), (\"Norrmalm\", \"Kungsholmen\", 2), \n",
    "\t(\"Gamla Stan\", \"Södermalm\", 3), (\"Gamla Stan\", \"Sickla\", 3), \n",
    "\t(\"Södermalm\", \"Sickla\", 2), (\"Södermalm\", \"Enskede\", 3),\n",
    "\t(\"Sickla\", \"Nacka\", 1), (\"Sickla\", \"Enskede\", 2), (\"Sickla\", \"Liljeholmen\", 3), \n",
    "\t(\"Nacka\", \"Värmdö\", 4), \n",
    "\t(\"Liljeholmen\", \"Enskede\", 3), (\"Liljeholmen\", \"Kungsholmen\", 2), (\"Liljeholmen\", \"Alvik\", 2),\n",
    "\t(\"Kungsholmen\", \"Alvik\", 2),\n",
    "\t(\"Danderyd\", \"Täby\", 2), (\"Danderyd\", \"Solna\", 2), \n",
    "\t(\"Solna\", \"Kista\", 2), (\"Solna\", \"Bromma\", 3), (\"Solna\", \"Alvik\", 3), (\"Solna\", \"Vällingby\", 4),\n",
    "\t(\"Alvik\", \"Bromma\", 1),\n",
    "\t(\"Bromma\", \"Vällingby\", 2), (\"Bromma\", \"Ekerö\", 5), \n",
    "\t(\"Kista\", \"Vällingby\", 3), (\"Kista\", \"Bromma\", 3),\n",
    "\t(\"Sollentuna\", \"Täby\", 3), (\"Sollentuna\", \"Danderyd\", 3), (\"Sollentuna\", \"Vällingby\", 5), (\"Sollentuna\", \"Solna\", 3)];"
   ]
  },
  {
   "cell_type": "markdown",
   "metadata": {},
   "source": [
    "A customer class"
   ]
  },
  {
   "cell_type": "code",
   "execution_count": 3,
   "metadata": {
    "collapsed": true
   },
   "outputs": [],
   "source": [
    "class Customer:\n",
    "\tdef __init__(self, loc1, loc2):\n",
    "\t\tself.start = loc1\n",
    "\t\tself.stop = loc2"
   ]
  },
  {
   "cell_type": "markdown",
   "metadata": {},
   "source": [
    "Define functions"
   ]
  },
  {
   "cell_type": "code",
   "execution_count": 4,
   "metadata": {
    "collapsed": true
   },
   "outputs": [],
   "source": [
    "def createSthlmGraph():\n",
    "\tSG = nx.Graph()\n",
    "\tSG.add_nodes_from(locations)\n",
    "\tSG.add_weighted_edges_from(roads)\n",
    "\treturn SG"
   ]
  },
  {
   "cell_type": "code",
   "execution_count": 5,
   "metadata": {
    "collapsed": true
   },
   "outputs": [],
   "source": [
    "def newCustomer():\n",
    "\tstartIndex = rd.randrange(n)\n",
    "\tstopIndex = rd.randrange(n)\n",
    "\tx = Customer(startIndex, stopIndex)\n",
    "\treturn x"
   ]
  },
  {
   "cell_type": "markdown",
   "metadata": {},
   "source": [
    "The program"
   ]
  },
  {
   "cell_type": "code",
   "execution_count": 8,
   "metadata": {},
   "outputs": [],
   "source": [
    "G = createSthlmGraph()\n",
    "n = len(locations)\n",
    "t = 0\n",
    "score = 0\n",
    "customers = []"
   ]
  },
  {
   "cell_type": "code",
   "execution_count": 11,
   "metadata": {},
   "outputs": [],
   "source": [
    "for i in range(10):\n",
    "\tnewCust = newCustomer()\n",
    "\tcustomers.append(newCust)\n",
    "\n",
    "currentLoc = locations[rd.randrange(n)];"
   ]
  },
  {
   "cell_type": "code",
   "execution_count": 12,
   "metadata": {
    "collapsed": true
   },
   "outputs": [],
   "source": [
    "emptyCar = True"
   ]
  },
  {
   "cell_type": "code",
   "execution_count": 14,
   "metadata": {},
   "outputs": [],
   "source": [
    "while t<96:\n",
    "\tnb = G.neighbors(currentLoc)\n",
    "\tfor i in nb:\n",
    "\t\tnextLoc\t= i \n",
    "\tif emptyCar == False:\n",
    "\t\tscore +=  G[currentLoc][nextLoc]['weight']\n",
    "\tt += 1\n",
    "\tcurrentLoc = nextLoc\n"
   ]
  },
  {
   "cell_type": "code",
   "execution_count": null,
   "metadata": {},
   "outputs": [],
   "source": []
  },
  {
   "cell_type": "code",
   "execution_count": null,
   "metadata": {
    "collapsed": true
   },
   "outputs": [],
   "source": []
  }
 ],
 "metadata": {
  "kernelspec": {
   "display_name": "Python 3",
   "language": "python",
   "name": "python3"
  },
  "language_info": {
   "codemirror_mode": {
    "name": "ipython",
    "version": 3
   },
   "file_extension": ".py",
   "mimetype": "text/x-python",
   "name": "python",
   "nbconvert_exporter": "python",
   "pygments_lexer": "ipython3",
   "version": "3.4.5"
  }
 },
 "nbformat": 4,
 "nbformat_minor": 2
}
